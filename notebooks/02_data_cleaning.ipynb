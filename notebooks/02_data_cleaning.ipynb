{
 "cells": [
  {
   "metadata": {},
   "cell_type": "markdown",
   "source": [
    "Установка модели spaCy (выполните в отдельной ячейке при первом запуске)\n",
    "\n",
    "Windows/macOS/Linux:\n",
    "\n",
    "```python -m spacy download ru_core_news_sm```"
   ],
   "id": "56b7cb715d350a7e"
  },
  {
   "metadata": {
    "ExecuteTime": {
     "end_time": "2025-04-29T14:51:54.952861Z",
     "start_time": "2025-04-29T14:51:54.948282Z"
    }
   },
   "cell_type": "code",
   "source": [
    "import pandas as pd\n",
    "import json\n",
    "import re\n",
    "import spacy\n",
    "import nltk\n",
    "from pathlib import Path\n",
    "from nltk.corpus import stopwords\n"
   ],
   "id": "ef25d71313146f09",
   "outputs": [],
   "execution_count": 28
  },
  {
   "metadata": {
    "ExecuteTime": {
     "end_time": "2025-04-29T14:51:57.348469Z",
     "start_time": "2025-04-29T14:51:55.981683Z"
    }
   },
   "cell_type": "code",
   "source": [
    "# Загрузка моделей и ресурсов\n",
    "nltk.download('stopwords')\n",
    "stop_words = set(stopwords.words('russian'))\n",
    "nlp = spacy.load(\"ru_core_news_sm\")\n"
   ],
   "id": "671384c748e329e",
   "outputs": [
    {
     "name": "stderr",
     "output_type": "stream",
     "text": [
      "[nltk_data] Downloading package stopwords to\n",
      "[nltk_data]     C:\\Users\\maitre\\AppData\\Roaming\\nltk_data...\n",
      "[nltk_data]   Package stopwords is already up-to-date!\n"
     ]
    }
   ],
   "execution_count": 29
  },
  {
   "metadata": {
    "ExecuteTime": {
     "end_time": "2025-04-29T14:51:57.862193Z",
     "start_time": "2025-04-29T14:51:57.857149Z"
    }
   },
   "cell_type": "code",
   "source": [
    "# Путь к последнему JSON-файлу с данными\n",
    "raw_data_dir = Path.cwd().parent / \"data\" / \"raw\"\n",
    "json_files = sorted(raw_data_dir.glob(\"ria_news_*.json\"), reverse=True)\n",
    "latest_file = json_files[0] if json_files else None\n",
    "\n",
    "if not latest_file:\n",
    "    raise FileNotFoundError(\"Нет доступных JSON-файлов в data/raw\")\n",
    "\n",
    "print(f\"Загружается файл: {latest_file.name}\")\n"
   ],
   "id": "9b2d2acababa731b",
   "outputs": [
    {
     "name": "stdout",
     "output_type": "stream",
     "text": [
      "Загружается файл: ria_news_20250429_164325.json\n"
     ]
    }
   ],
   "execution_count": 30
  },
  {
   "metadata": {
    "ExecuteTime": {
     "end_time": "2025-04-29T14:51:58.982860Z",
     "start_time": "2025-04-29T14:51:58.971505Z"
    }
   },
   "cell_type": "code",
   "source": [
    "# Загрузка JSON\n",
    "with open(latest_file, \"r\", encoding=\"utf-8\") as f:\n",
    "    raw_data = json.load(f)\n"
   ],
   "id": "f6776dc5f5f3629b",
   "outputs": [],
   "execution_count": 31
  },
  {
   "metadata": {
    "ExecuteTime": {
     "end_time": "2025-04-29T14:52:00.249150Z",
     "start_time": "2025-04-29T14:52:00.240171Z"
    }
   },
   "cell_type": "code",
   "source": [
    "# Преобразование в плоский DataFrame\n",
    "rows = []\n",
    "for category, articles in raw_data.items():\n",
    "    for url, content in articles.items():\n",
    "        tags = content.get(\"tags\") if content.get(\"tags\") else []\n",
    "        tags = [t for t in tags if t.strip() != \"\"]\n",
    "        rows.append({\n",
    "            \"category\": category,\n",
    "            \"url\": url,\n",
    "            \"title\": content.get(\"title\"),\n",
    "            \"views\": content.get(\"views\"),\n",
    "            \"tags\": tags\n",
    "        })\n",
    "\n",
    "df = pd.DataFrame(rows)\n",
    "print(f\"Всего записей: {len(df)}\")\n"
   ],
   "id": "a85aa0233e03e236",
   "outputs": [
    {
     "name": "stdout",
     "output_type": "stream",
     "text": [
      "Всего записей: 1200\n"
     ]
    }
   ],
   "execution_count": 32
  },
  {
   "metadata": {
    "ExecuteTime": {
     "end_time": "2025-04-29T14:52:02.645598Z",
     "start_time": "2025-04-29T14:52:02.635217Z"
    }
   },
   "cell_type": "code",
   "source": [
    "# Очистка данных\n",
    "df.dropna(subset=[\"title\", \"views\"], inplace=True)\n",
    "df.drop_duplicates(subset=\"url\", inplace=True)\n",
    "df[\"title\"] = df[\"title\"].str.strip().str.lower()\n",
    "df[\"views\"] = pd.to_numeric(df[\"views\"], errors=\"coerce\")\n",
    "df[\"tags\"] = df[\"tags\"].apply(lambda tags: [t for t in tags if t.strip()])\n"
   ],
   "id": "d31562cca775b064",
   "outputs": [],
   "execution_count": 33
  },
  {
   "metadata": {
    "ExecuteTime": {
     "end_time": "2025-04-29T14:52:11.733496Z",
     "start_time": "2025-04-29T14:52:03.698755Z"
    }
   },
   "cell_type": "code",
   "source": [
    "# --- Обработка текста ---\n",
    "def preprocess_title(text):\n",
    "    doc = nlp(text)\n",
    "    tokens = [token.text for token in doc if token.is_alpha]\n",
    "    tokens_no_stop = [t for t in tokens if t.lower() not in stop_words]\n",
    "    lemmas = [token.lemma_ for token in doc if token.is_alpha and token.lemma_.lower() not in stop_words]\n",
    "    ents = [(ent.text, ent.label_) for ent in doc.ents]\n",
    "    return {\n",
    "        \"clean\": \" \".join(tokens_no_stop),\n",
    "        \"tokens\": tokens_no_stop,\n",
    "        \"lemmas\": lemmas,\n",
    "        \"entities\": ents\n",
    "    }\n",
    "\n",
    "processed = df[\"title\"].apply(preprocess_title)\n",
    "df[\"title_clean\"] = processed.map(lambda x: x[\"clean\"])\n",
    "df[\"title_tokens\"] = processed.map(lambda x: x[\"tokens\"])\n",
    "df[\"title_lemmas\"] = processed.map(lambda x: x[\"lemmas\"])\n",
    "df[\"named_entities\"] = processed.map(lambda x: x[\"entities\"])\n"
   ],
   "id": "335e77ffe3570f48",
   "outputs": [],
   "execution_count": 34
  },
  {
   "metadata": {
    "ExecuteTime": {
     "end_time": "2025-04-29T14:23:19.809725Z",
     "start_time": "2025-04-29T14:23:19.774522Z"
    }
   },
   "cell_type": "code",
   "outputs": [
    {
     "name": "stdout",
     "output_type": "stream",
     "text": [
      "Готово. Сохранено в: D:\\Coding\\hhiissookkaax_project1\\data\\processed\\clean_articles.csv\n"
     ]
    },
    {
     "data": {
      "text/plain": [
       "   category                                                url  \\\n",
       "0  Политика  https://rsport.ria.ru/20250429/stupak-20141064...   \n",
       "1  Политика      https://ria.ru/20250429/putin-2014072360.html   \n",
       "2  Политика    https://ria.ru/20250429/volodin-2014019151.html   \n",
       "3  Политика     https://ria.ru/20250429/peskov-2014002713.html   \n",
       "4  Политика    https://ria.ru/20250429/klishas-2013972100.html   \n",
       "\n",
       "                                               title  views  \\\n",
       "0  вяльбе поддержала участие ступак в партийных в...     25   \n",
       "1                         путин прилетел в волгоград   1825   \n",
       "2  володин назвал защиту исторической правды одни...    263   \n",
       "3  песков высказался о легитимности зеленского на...   9770   \n",
       "4  сенатор клишас шуткой отреагировал на слова во...  11183   \n",
       "\n",
       "                                                tags  \\\n",
       "0  [Политика, Лыжные гонки, Республика Коми, Сосн...   \n",
       "1  [Политика, Волгоград, Россия, Владимир Путин, ...   \n",
       "2  [Политика, Белоруссия, Волгоград, Владимир Путин]   \n",
       "3  [Политика, Россия, Дмитрий Песков, Владимир Зе...   \n",
       "4  [Политика, Госдума РФ, Андрей Клишас, Вячеслав...   \n",
       "\n",
       "                                         title_clean  \\\n",
       "0  вяльбе поддержала участие ступак партийных выб...   \n",
       "1                           путин прилетел волгоград   \n",
       "2  володин назвал защиту исторической правды одни...   \n",
       "3  песков высказался легитимности зеленского пост...   \n",
       "4  сенатор клишас шуткой отреагировал слова волод...   \n",
       "\n",
       "                                        title_tokens  \\\n",
       "0  [вяльбе, поддержала, участие, ступак, партийны...   \n",
       "1                       [путин, прилетел, волгоград]   \n",
       "2  [володин, назвал, защиту, исторической, правды...   \n",
       "3  [песков, высказался, легитимности, зеленского,...   \n",
       "4  [сенатор, клишас, шуткой, отреагировал, слова,...   \n",
       "\n",
       "                                        title_lemmas  \\\n",
       "0  [вяльбе, поддержать, участие, ступак, партийны...   \n",
       "1                      [путин, прилететь, волгоград]   \n",
       "2  [володин, назвать, защита, исторический, правд...   \n",
       "3  [песков, высказаться, легитимность, зеленского...   \n",
       "4  [сенатор, клишас, шутка, отреагировать, слово,...   \n",
       "\n",
       "                     named_entities  \n",
       "0                   [(вяльбе, PER)]  \n",
       "1  [(путин, PER), (волгоград, LOC)]  \n",
       "2       [(володин, PER), (сг, ORG)]  \n",
       "3                   [(песков, PER)]  \n",
       "4            [(клишас шуткой, PER)]  "
      ],
      "text/html": [
       "<div>\n",
       "<style scoped>\n",
       "    .dataframe tbody tr th:only-of-type {\n",
       "        vertical-align: middle;\n",
       "    }\n",
       "\n",
       "    .dataframe tbody tr th {\n",
       "        vertical-align: top;\n",
       "    }\n",
       "\n",
       "    .dataframe thead th {\n",
       "        text-align: right;\n",
       "    }\n",
       "</style>\n",
       "<table border=\"1\" class=\"dataframe\">\n",
       "  <thead>\n",
       "    <tr style=\"text-align: right;\">\n",
       "      <th></th>\n",
       "      <th>category</th>\n",
       "      <th>url</th>\n",
       "      <th>title</th>\n",
       "      <th>views</th>\n",
       "      <th>tags</th>\n",
       "      <th>title_clean</th>\n",
       "      <th>title_tokens</th>\n",
       "      <th>title_lemmas</th>\n",
       "      <th>named_entities</th>\n",
       "    </tr>\n",
       "  </thead>\n",
       "  <tbody>\n",
       "    <tr>\n",
       "      <th>0</th>\n",
       "      <td>Политика</td>\n",
       "      <td>https://rsport.ria.ru/20250429/stupak-20141064...</td>\n",
       "      <td>вяльбе поддержала участие ступак в партийных в...</td>\n",
       "      <td>25</td>\n",
       "      <td>[Политика, Лыжные гонки, Республика Коми, Сосн...</td>\n",
       "      <td>вяльбе поддержала участие ступак партийных выб...</td>\n",
       "      <td>[вяльбе, поддержала, участие, ступак, партийны...</td>\n",
       "      <td>[вяльбе, поддержать, участие, ступак, партийны...</td>\n",
       "      <td>[(вяльбе, PER)]</td>\n",
       "    </tr>\n",
       "    <tr>\n",
       "      <th>1</th>\n",
       "      <td>Политика</td>\n",
       "      <td>https://ria.ru/20250429/putin-2014072360.html</td>\n",
       "      <td>путин прилетел в волгоград</td>\n",
       "      <td>1825</td>\n",
       "      <td>[Политика, Волгоград, Россия, Владимир Путин, ...</td>\n",
       "      <td>путин прилетел волгоград</td>\n",
       "      <td>[путин, прилетел, волгоград]</td>\n",
       "      <td>[путин, прилететь, волгоград]</td>\n",
       "      <td>[(путин, PER), (волгоград, LOC)]</td>\n",
       "    </tr>\n",
       "    <tr>\n",
       "      <th>2</th>\n",
       "      <td>Политика</td>\n",
       "      <td>https://ria.ru/20250429/volodin-2014019151.html</td>\n",
       "      <td>володин назвал защиту исторической правды одни...</td>\n",
       "      <td>263</td>\n",
       "      <td>[Политика, Белоруссия, Волгоград, Владимир Путин]</td>\n",
       "      <td>володин назвал защиту исторической правды одни...</td>\n",
       "      <td>[володин, назвал, защиту, исторической, правды...</td>\n",
       "      <td>[володин, назвать, защита, исторический, правд...</td>\n",
       "      <td>[(володин, PER), (сг, ORG)]</td>\n",
       "    </tr>\n",
       "    <tr>\n",
       "      <th>3</th>\n",
       "      <td>Политика</td>\n",
       "      <td>https://ria.ru/20250429/peskov-2014002713.html</td>\n",
       "      <td>песков высказался о легитимности зеленского на...</td>\n",
       "      <td>9770</td>\n",
       "      <td>[Политика, Россия, Дмитрий Песков, Владимир Зе...</td>\n",
       "      <td>песков высказался легитимности зеленского пост...</td>\n",
       "      <td>[песков, высказался, легитимности, зеленского,...</td>\n",
       "      <td>[песков, высказаться, легитимность, зеленского...</td>\n",
       "      <td>[(песков, PER)]</td>\n",
       "    </tr>\n",
       "    <tr>\n",
       "      <th>4</th>\n",
       "      <td>Политика</td>\n",
       "      <td>https://ria.ru/20250429/klishas-2013972100.html</td>\n",
       "      <td>сенатор клишас шуткой отреагировал на слова во...</td>\n",
       "      <td>11183</td>\n",
       "      <td>[Политика, Госдума РФ, Андрей Клишас, Вячеслав...</td>\n",
       "      <td>сенатор клишас шуткой отреагировал слова волод...</td>\n",
       "      <td>[сенатор, клишас, шуткой, отреагировал, слова,...</td>\n",
       "      <td>[сенатор, клишас, шутка, отреагировать, слово,...</td>\n",
       "      <td>[(клишас шуткой, PER)]</td>\n",
       "    </tr>\n",
       "  </tbody>\n",
       "</table>\n",
       "</div>"
      ]
     },
     "execution_count": 26,
     "metadata": {},
     "output_type": "execute_result"
    }
   ],
   "execution_count": 26,
   "source": [
    "# Сохраняем чистые данные\n",
    "output_path = Path.cwd().parent / \"data\" / \"processed\"\n",
    "output_path.mkdir(parents=True, exist_ok=True)\n",
    "clean_file = output_path / \"clean_articles.csv\"\n",
    "df.to_csv(clean_file, index=False, encoding=\"utf-8\")\n",
    "\n",
    "print(f\"Готово. Сохранено в: {clean_file}\")\n",
    "df.head()\n"
   ],
   "id": "3ba6ed4fb214cb7a"
  }
 ],
 "metadata": {
  "kernelspec": {
   "display_name": "Python 3",
   "language": "python",
   "name": "python3"
  },
  "language_info": {
   "codemirror_mode": {
    "name": "ipython",
    "version": 2
   },
   "file_extension": ".py",
   "mimetype": "text/x-python",
   "name": "python",
   "nbconvert_exporter": "python",
   "pygments_lexer": "ipython2",
   "version": "2.7.6"
  }
 },
 "nbformat": 4,
 "nbformat_minor": 5
}
